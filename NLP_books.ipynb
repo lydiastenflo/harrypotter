{
 "cells": [
  {
   "cell_type": "code",
   "execution_count": 1,
   "metadata": {},
   "outputs": [],
   "source": [
    "#Importing the books\n",
    "\n",
    "book1= open(\"/Users/lydiastenflo/Dropbox/My Mac (Magnuss MacBook Air (2))/Desktop/Visualisation/HP-books/Book1.txt\").read()\n",
    "book2= open(\"/Users/lydiastenflo/Dropbox/My Mac (Magnuss MacBook Air (2))/Desktop/Visualisation/HP-books/Book2.txt\").read()\n",
    "book3= open(\"/Users/lydiastenflo/Dropbox/My Mac (Magnuss MacBook Air (2))/Desktop/Visualisation/HP-books/Book3.txt\").read()\n",
    "book4= open(\"/Users/lydiastenflo/Dropbox/My Mac (Magnuss MacBook Air (2))/Desktop/Visualisation/HP-books/Book4.txt\").read()\n",
    "book5= open(\"/Users/lydiastenflo/Dropbox/My Mac (Magnuss MacBook Air (2))/Desktop/Visualisation/HP-books/Book5.txt\").read()\n",
    "book6= open(\"/Users/lydiastenflo/Dropbox/My Mac (Magnuss MacBook Air (2))/Desktop/Visualisation/HP-books/Book6.txt\").read()\n",
    "book7= open(\"/Users/lydiastenflo/Dropbox/My Mac (Magnuss MacBook Air (2))/Desktop/Visualisation/HP-books/Book7.txt\").read()\n",
    "listofbooks=[book1, book2, book3, book4, book5, book6, book7]"
   ]
  },
  {
   "cell_type": "code",
   "execution_count": 2,
   "metadata": {},
   "outputs": [
    {
     "name": "stdout",
     "output_type": "stream",
     "text": [
      "[83188, 92168, 116621, 206157, 276563, 182361, 211795]\n"
     ]
    }
   ],
   "source": [
    "#Counting the words in the books\n",
    "\n",
    "countofwords=[len(book1.split()), len(book2.split()), len(book3.split()), len(book4.split()), len(book5.split()), len(book6.split()), len(book7.split())]\n",
    "print(countofwords)"
   ]
  },
  {
   "cell_type": "code",
   "execution_count": 3,
   "metadata": {},
   "outputs": [],
   "source": [
    "#Character class\n",
    "\n",
    "class Character:  \n",
    "    def __init__(self, name, listofmentions): \n",
    "        self.name=name \n",
    "        self.listofmentions=listofmentions\n"
   ]
  },
  {
   "cell_type": "code",
   "execution_count": 4,
   "metadata": {},
   "outputs": [
    {
     "name": "stdout",
     "output_type": "stream",
     "text": [
      "['Aberforth', 'Alastor', 'Albus', 'Alecto', 'Alice', 'Alicia', 'Amos', 'Amycus', 'Angelina', 'Anthony', 'Antonin', 'Augustus', 'Aurora', 'Bellatrix', 'Benjy', 'Bill', 'Blaise', 'Bloody', 'Cedric', 'Charity', 'Charles', 'Cho', 'Colin', 'Corban', 'Cormac', 'Crouch Jr.', 'Crouch Sr.', 'Cuthbert', 'Dean', 'Dedalus', 'Dennis', 'Dobby', 'Dolores', 'Dorcas', 'Draco', 'Dudley', 'Dumbledore', 'Edgar', 'Elphias', 'Emmeline', 'Ernest', 'Fabian', 'He-Who-Must-Not-Be-Named', 'Fat', 'Fenrir', 'Filch', 'Firenze', 'Fleur', 'Flint', 'Flitwick', 'Frank', 'Fred', 'Fudge', 'Gabrielle', 'Gellert', 'George', 'Gideon', 'Ginny', 'Godric', 'Graham', 'Gregory', 'Hagrid', 'Hannah', 'The Dark Lord', 'Harry', 'Helena', 'Helga', 'Hermione', 'Hestia', 'Horace', 'Igor', 'Irma', 'James', 'James Sirius', 'Justin', 'Katie', 'Kingsley', 'Kreacher', 'Lavender', 'Lee', 'Lily', 'Lockhart', 'Lucius', 'Luna', 'Lupin', 'Madam Hooch', 'Madame', 'Marcus', 'Marge', 'Marietta', 'Marlene', 'McGonagall', 'Michael', 'Millicent', 'Mr. Weasley', 'Mrs. Weasley', 'Mundungus', 'Myrtle', 'Narcissa', 'Neville', 'Newton', 'Nymphadora', 'Oliver', 'Ollivander', 'Padma', 'Pansy', 'Parvati', 'Penelope', 'Percy', 'Pettigrew', 'Petunia', 'Poppy', 'Quirrell', 'Regulus', 'Remus', 'Rodolphus', 'Roger', 'Romilda', 'Ron', 'Rose', 'Rowena', 'Rufus', 'Salazar', 'Scorpius', 'Seamus', 'Septima', 'Sir Nicholas', 'The Heir of Slytherin', 'Sirius', 'You-Know-Who', 'Snape', 'Sprout', 'Sturgis', 'Susan', 'Terry', 'Theodore', 'Trelawney', 'Vernon', 'Viktor', 'Vincent', 'Tom', 'Voldemort', 'Walden', 'Wilhelmina', 'Zacharias']\n"
     ]
    }
   ],
   "source": [
    "#Creating the list of characters\n",
    "\n",
    "import csv\n",
    "\n",
    "file=open(\"/Users/lydiastenflo/Dropbox/My Mac (Magnuss MacBook Air (2))/Desktop/character_names_updated.csv\", 'r').readlines()\n",
    "listofcharacters=[]\n",
    "for char in file:\n",
    "  if 'character_primary_name' not in char:\n",
    "    char=char.strip()\n",
    "    listofcharacters.append(char)\n",
    "\n",
    "print(listofcharacters)\n",
    "#Creating an empty list of Character instances\n",
    "listofinstances=[]\n",
    "\n",
    "\n",
    "\n",
    "\n"
   ]
  },
  {
   "cell_type": "code",
   "execution_count": 5,
   "metadata": {},
   "outputs": [
    {
     "data": {
      "text/html": [
       "<div>\n",
       "<style scoped>\n",
       "    .dataframe tbody tr th:only-of-type {\n",
       "        vertical-align: middle;\n",
       "    }\n",
       "\n",
       "    .dataframe tbody tr th {\n",
       "        vertical-align: top;\n",
       "    }\n",
       "\n",
       "    .dataframe thead th {\n",
       "        text-align: right;\n",
       "    }\n",
       "</style>\n",
       "<table border=\"1\" class=\"dataframe\">\n",
       "  <thead>\n",
       "    <tr style=\"text-align: right;\">\n",
       "      <th></th>\n",
       "      <th>Book 1:</th>\n",
       "      <th>Book 2:</th>\n",
       "      <th>Book 3:</th>\n",
       "      <th>Book 4:</th>\n",
       "      <th>Book 5:</th>\n",
       "      <th>Book 6:</th>\n",
       "      <th>Book 7:</th>\n",
       "    </tr>\n",
       "    <tr>\n",
       "      <th>Character_Primary_Name</th>\n",
       "      <th></th>\n",
       "      <th></th>\n",
       "      <th></th>\n",
       "      <th></th>\n",
       "      <th></th>\n",
       "      <th></th>\n",
       "      <th></th>\n",
       "    </tr>\n",
       "  </thead>\n",
       "  <tbody>\n",
       "    <tr>\n",
       "      <th>Aberforth</th>\n",
       "      <td>0</td>\n",
       "      <td>0</td>\n",
       "      <td>0</td>\n",
       "      <td>2</td>\n",
       "      <td>1</td>\n",
       "      <td>0</td>\n",
       "      <td>74</td>\n",
       "    </tr>\n",
       "    <tr>\n",
       "      <th>Alastor</th>\n",
       "      <td>0</td>\n",
       "      <td>0</td>\n",
       "      <td>0</td>\n",
       "      <td>6</td>\n",
       "      <td>5</td>\n",
       "      <td>0</td>\n",
       "      <td>1</td>\n",
       "    </tr>\n",
       "    <tr>\n",
       "      <th>Albus</th>\n",
       "      <td>9</td>\n",
       "      <td>7</td>\n",
       "      <td>5</td>\n",
       "      <td>19</td>\n",
       "      <td>14</td>\n",
       "      <td>18</td>\n",
       "      <td>109</td>\n",
       "    </tr>\n",
       "    <tr>\n",
       "      <th>Alecto</th>\n",
       "      <td>0</td>\n",
       "      <td>0</td>\n",
       "      <td>0</td>\n",
       "      <td>0</td>\n",
       "      <td>0</td>\n",
       "      <td>2</td>\n",
       "      <td>13</td>\n",
       "    </tr>\n",
       "    <tr>\n",
       "      <th>Alice</th>\n",
       "      <td>0</td>\n",
       "      <td>0</td>\n",
       "      <td>0</td>\n",
       "      <td>0</td>\n",
       "      <td>6</td>\n",
       "      <td>0</td>\n",
       "      <td>0</td>\n",
       "    </tr>\n",
       "  </tbody>\n",
       "</table>\n",
       "</div>"
      ],
      "text/plain": [
       "                        Book 1:  Book 2:  Book 3:  Book 4:  Book 5:  Book 6:  \\\n",
       "Character_Primary_Name                                                         \n",
       "Aberforth                     0        0        0        2        1        0   \n",
       "Alastor                       0        0        0        6        5        0   \n",
       "Albus                         9        7        5       19       14       18   \n",
       "Alecto                        0        0        0        0        0        2   \n",
       "Alice                         0        0        0        0        6        0   \n",
       "\n",
       "                        Book 7:  \n",
       "Character_Primary_Name           \n",
       "Aberforth                    74  \n",
       "Alastor                       1  \n",
       "Albus                       109  \n",
       "Alecto                       13  \n",
       "Alice                         0  "
      ]
     },
     "execution_count": 5,
     "metadata": {},
     "output_type": "execute_result"
    }
   ],
   "source": [
    "import pandas as pd\n",
    "\n",
    "import re\n",
    "\n",
    "#Generate a dictionary for every name in the list of characters:\n",
    "def generate_dicts(listofcharacters):\n",
    "    for name in listofcharacters:\n",
    "        count(name, listofbooks)\n",
    "\n",
    "\n",
    "#Counting the mentions:\n",
    "\n",
    "def count(name, listofbooks):\n",
    "\n",
    "    listofmentions={} #creating a dictionary for the character\n",
    "    char_instance=Character(name, listofmentions) #creating an instance\n",
    "    listofinstances.append(char_instance) \n",
    "\n",
    "    n=0\n",
    "    \n",
    "    for book in listofbooks: #for every book\n",
    "        n+=1\n",
    "        i=0\n",
    "        bookname=f\"Book {n}:\" \n",
    "        #temp= re.escape(name)\n",
    "        #temp1=(r\"\\b\" + temp + r\"\\b\")\n",
    "        i=len([*re.finditer(name, book)]) #counting the occurences of the pattern in the book\n",
    "        char_instance.listofmentions[bookname]=i\n",
    "    \n",
    "    return char_instance.listofmentions\n",
    "    \n",
    "\n",
    "#Making the dataframe:\n",
    "\n",
    "def makedf(listofinstances):\n",
    "    \n",
    "    df = pd.DataFrame()\n",
    "    for instance in listofinstances:\n",
    "        index=[instance.name]\n",
    "        df_temp = pd.DataFrame({'counts': [instance.listofmentions]}, columns = ['counts'])\n",
    "        df_temp=df_temp.rename_axis('Character_Primary_Name')\n",
    "        df_temp=df_temp['counts'].apply(pd.Series)\n",
    "        df_temp.index=index\n",
    "\n",
    "        df=pd.concat([df, df_temp], axis=0)\n",
    "\n",
    "\n",
    "    return df\n",
    "    \n",
    "\n",
    "generate_dicts(listofcharacters)\n",
    "\n",
    "df=makedf(listofinstances)\n",
    "df=df.rename_axis('Character_Primary_Name')\n",
    "\n",
    "#Export the dataframe to a CSV\n",
    "df.to_csv('final_csv_books.csv')\n",
    "\n",
    "df.head()\n",
    "\n"
   ]
  },
  {
   "cell_type": "code",
   "execution_count": 11,
   "metadata": {},
   "outputs": [
    {
     "data": {
      "text/html": [
       "<div>\n",
       "<style scoped>\n",
       "    .dataframe tbody tr th:only-of-type {\n",
       "        vertical-align: middle;\n",
       "    }\n",
       "\n",
       "    .dataframe tbody tr th {\n",
       "        vertical-align: top;\n",
       "    }\n",
       "\n",
       "    .dataframe thead th {\n",
       "        text-align: right;\n",
       "    }\n",
       "</style>\n",
       "<table border=\"1\" class=\"dataframe\">\n",
       "  <thead>\n",
       "    <tr style=\"text-align: right;\">\n",
       "      <th></th>\n",
       "    </tr>\n",
       "  </thead>\n",
       "  <tbody>\n",
       "  </tbody>\n",
       "</table>\n",
       "</div>"
      ],
      "text/plain": [
       "Empty DataFrame\n",
       "Columns: []\n",
       "Index: []"
      ]
     },
     "execution_count": 11,
     "metadata": {},
     "output_type": "execute_result"
    }
   ],
   "source": [
    "\n",
    "df=pd.DataFrame()\n",
    "df.head()"
   ]
  },
  {
   "attachments": {},
   "cell_type": "markdown",
   "metadata": {},
   "source": []
  }
 ],
 "metadata": {
  "kernelspec": {
   "display_name": "base",
   "language": "python",
   "name": "python3"
  },
  "language_info": {
   "codemirror_mode": {
    "name": "ipython",
    "version": 3
   },
   "file_extension": ".py",
   "mimetype": "text/x-python",
   "name": "python",
   "nbconvert_exporter": "python",
   "pygments_lexer": "ipython3",
   "version": "3.9.12 (main, Apr  5 2022, 01:53:17) \n[Clang 12.0.0 ]"
  },
  "vscode": {
   "interpreter": {
    "hash": "3574aabc3faa94cb8f12632dbbee7a994a43ab550c31137ba28f4313c972c39f"
   }
  }
 },
 "nbformat": 4,
 "nbformat_minor": 2
}
